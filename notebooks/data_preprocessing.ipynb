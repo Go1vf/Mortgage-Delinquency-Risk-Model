{
 "cells": [
  {
   "cell_type": "markdown",
   "metadata": {},
   "source": [
    "# Packages Import"
   ]
  },
  {
   "cell_type": "code",
   "execution_count": 1,
   "metadata": {},
   "outputs": [
    {
     "name": "stdout",
     "output_type": "stream",
     "text": [
      "Package Imported\n"
     ]
    }
   ],
   "source": [
    "# from pyspark.sql import SparkSession\n",
    "import pandas as pd\n",
    "import warnings\n",
    "import sys\n",
    "from pyspark.sql import SparkSession\n",
    "from pyspark.sql.functions import col, when, lead, to_date, lpad\n",
    "from pyspark.sql.window import Window\n",
    "sys.path.append('../src')\n",
    "from data import run, load_and_concat_csv, drop_na_columns, process_data, add_y_label,lppub_column_names, lppub_column_classes\n",
    "from utility import read_multiple_csv_files\n",
    "warnings.simplefilter(action='ignore', category=pd.errors.DtypeWarning)\n",
    "print(\"Package Imported\")"
   ]
  },
  {
   "cell_type": "code",
   "execution_count": 7,
   "metadata": {},
   "outputs": [
    {
     "name": "stdout",
     "output_type": "stream",
     "text": [
      "27960987\n"
     ]
    }
   ],
   "source": [
    "df = load_and_concat_csv(\"../data/raw/2015Q1.csv\", lppub_column_names, lppub_column_classes)\n",
    "print(len(df))"
   ]
  },
  {
   "cell_type": "code",
   "execution_count": 12,
   "metadata": {},
   "outputs": [
    {
     "name": "stdout",
     "output_type": "stream",
     "text": [
      "Index(['POOL_ID', 'LOAN_ID', 'ACT_PERIOD', 'CHANNEL', 'SELLER', 'SERVICER',\n",
      "       'MASTER_SERVICER', 'ORIG_RATE', 'CURR_RATE', 'ORIG_UPB',\n",
      "       ...\n",
      "       'PLAN_NUMBER', 'FORBEARANCE_INDICATOR',\n",
      "       'HIGH_LOAN_TO_VALUE_HLTV_REFINANCE_OPTION_INDICATOR', 'DEAL_NAME',\n",
      "       'RE_PROCS_FLAG', 'ADR_TYPE', 'ADR_COUNT', 'ADR_UPB',\n",
      "       'PAYMENT_DEFERRAL_MOD_EVENT_FLAG', 'INTEREST_BEARING_UPB'],\n",
      "      dtype='object', length=110)\n"
     ]
    }
   ],
   "source": [
    "print(df.columns)"
   ]
  },
  {
   "cell_type": "code",
   "execution_count": 16,
   "metadata": {},
   "outputs": [
    {
     "data": {
      "image/png": "[encoded data removed]",
      "text/plain": [
       "<Figure size 640x480 with 1 Axes>"
      ]
     },
     "metadata": {},
     "output_type": "display_data"
    }
   ],
   "source": [
    "import matplotlib.pyplot as plt\n",
    "total_count = len(df)\n",
    "df['DLQ_STATUS'] = pd.to_numeric(df['DLQ_STATUS'], errors='coerce')\n",
    "default_ge_3_count = len(df[df['DLQ_STATUS'] >= 3])\n",
    "default_ge_3_proportion = default_ge_3_count / total_count\n",
    "\n",
    "# Create the bar chart\n",
    "categories = ['Default Component', 'Non-default Component']\n",
    "proportions = [default_ge_3_proportion, 1 - default_ge_3_proportion]\n",
    "\n",
    "colors = ['red', 'blue']  # Optional: Custom colors\n",
    "\n",
    "# Create the pie chart\n",
    "plt.pie(proportions, labels=categories, colors=colors, autopct='%1.1f%%', startangle=90)\n",
    "plt.title('Proportion of Default Status')\n",
    "plt.show()"
   ]
  },
  {
   "cell_type": "markdown",
   "metadata": {},
   "source": [
    "# Data Proprocessing"
   ]
  },
  {
   "cell_type": "markdown",
   "metadata": {},
   "source": [
    "## Mark Default by 4 quarters (1 year)"
   ]
  },
  {
   "cell_type": "code",
   "execution_count": null,
   "metadata": {},
   "outputs": [],
   "source": [
    "def process_mortgage_data(input_path: str, output_path: str):\n",
    "    # Initialize Spark session\n",
    "    spark = SparkSession.builder.appName(\"MortgageDelinquency\").getOrCreate()\n",
    "\n",
    "    # Load the dataset\n",
    "    df = spark.read.csv(input_path, header=True, inferSchema=True)\n",
    "\n",
    "    # Convert 'ACT_PERIOD' from MMYYYY integer format to timestamp\n",
    "    df = df.withColumn('ACT_PERIOD', lpad(df['ACT_PERIOD'].cast('string'), 6, '0'))\n",
    "    df = df.withColumn('ACT_PERIOD', to_date(df['ACT_PERIOD'].cast('string'), 'MMyyyy'))\n",
    "    df = df.withColumn('default_status', col('default_status').cast('int'))\n",
    "\n",
    "    # Define a window specification to partition by LOAN_ID and order by ACT_PERIOD\n",
    "    window_spec = Window.partitionBy('LOAN_ID').orderBy('ACT_PERIOD')\n",
    "\n",
    "    # Create a column 'next_4_quarters' to look ahead for the next 8 quarters\n",
    "    df = df.withColumn(\n",
    "        'next_4_quarters_default',\n",
    "        when(col('default_status') >= 3, 1).otherwise(0)\n",
    "    )\n",
    "\n",
    "    # Use the window spec to look at the next 4 quarters' default status\n",
    "    # ???\n",
    "    df = df.withColumn(\n",
    "        'next_4_quarters_default',\n",
    "        lead('next_4_quarters_default', 16).over(window_spec)\n",
    "    )\n",
    "\n",
    "    # Create the 'y_label' column based on next 4 quarters' default status\n",
    "    df = df.withColumn('y_label', when(col('next_4_quarters_default') == 1, 1).otherwise(0))\n",
    "\n",
    "    # Drop the intermediate 'next_4_quarters_default' column\n",
    "    df = df.drop('next_4_quarters_default')\n",
    "    df = df.dropna()\n",
    "    \n",
    "    # Convert Spark DataFrame to pandas DataFrame and save to CSV\n",
    "    df.coalesce(1).write.option(\"header\", \"true\").csv(output_path)\n",
    "\n",
    "    print(f\"Data processed and saved to {output_path}\")\n"
   ]
  },
  {
   "cell_type": "code",
   "execution_count": 3,
   "metadata": {},
   "outputs": [],
   "source": [
    "# # Example usage:\n",
    "# input_dirc = '../data/raw/'\n",
    "# processed_dirc = '../data/processed/'\n",
    "# output_dirc = '../data/cleaned/'\n",
    "# file_name = '2015Q1.csv'\n",
    "# df = run(input_dirc+file_name, processed_dirc)\n",
    "# process_mortgage_data(processed_dirc + file_name, output_dirc + file_name)"
   ]
  },
  {
   "cell_type": "code",
   "execution_count": null,
   "metadata": {},
   "outputs": [],
   "source": [
    "input_dirc = '../data/raw/'\n",
    "processed_dirc = '../data/processed/'\n",
    "output_dirc = '../data/cleaned/'\n",
    "\n",
    "# List of filenames from 2015Q1 to 2016Q4\n",
    "file_names = ['2015Q1.csv', '2015Q3.csv', \n",
    "              '2016Q1.csv', '2016Q3.csv']\n",
    "\n",
    "# Loop through the list of files and process each one\n",
    "for file_name in file_names:\n",
    "    # Run for each file from raw to processed\n",
    "    \n",
    "    # Process the mortgage data and save to cleaned directory\n",
    "    process_mortgage_data(processed_dirc + file_name, output_dirc + file_name + '4_quarters')\n",
    "\n",
    "    print(f\"Processing completed for {file_name}\")"
   ]
  },
  {
   "cell_type": "code",
   "execution_count": null,
   "metadata": {},
   "outputs": [],
   "source": [
    "# input_dirc = '../data/raw/'\n",
    "# processed_dirc = '../data/processed/'\n",
    "# output_dirc = '../data/cleaned/'\n",
    "\n",
    "# # List of filenames from 2015Q1 to 2016Q4\n",
    "# file_names = ['2016Q3.csv']\n",
    "\n",
    "# # Loop through the list of files and process each one\n",
    "# for file_name in file_names:\n",
    "#     # Run for each file from raw to processed\n",
    "#     df = run(input_dirc + file_name, processed_dirc)\n",
    "    \n",
    "#     # Process the mortgage data and save to cleaned directory\n",
    "#     process_mortgage_data(processed_dirc + file_name, output_dirc + file_name)\n",
    "\n",
    "#     print(f\"Processing completed for {file_name}\")"
   ]
  },
  {
   "cell_type": "markdown",
   "metadata": {},
   "source": [
    "## Mark Deafult by 8 quarters (2 years)"
   ]
  },
  {
   "cell_type": "code",
   "execution_count": 3,
   "metadata": {},
   "outputs": [],
   "source": [
    "def process_mortgage_data_eight_quarters(input_path: str, output_path: str):\n",
    "    # Initialize Spark session\n",
    "    spark = SparkSession.builder.appName(\"MortgageDelinquency\").getOrCreate()\n",
    "\n",
    "    # Load the dataset\n",
    "    df = spark.read.csv(input_path, header=True, inferSchema=True)\n",
    "\n",
    "    # Convert 'ACT_PERIOD' from MMYYYY integer format to timestamp\n",
    "    df = df.withColumn('ACT_PERIOD', lpad(df['ACT_PERIOD'].cast('string'), 6, '0'))\n",
    "    df = df.withColumn('ACT_PERIOD', to_date(df['ACT_PERIOD'].cast('string'), 'MMyyyy'))\n",
    "    df = df.withColumn('default_status', col('default_status').cast('int'))\n",
    "\n",
    "    # Define a window specification to partition by LOAN_ID and order by ACT_PERIOD\n",
    "    window_spec = Window.partitionBy('LOAN_ID').orderBy('ACT_PERIOD')\n",
    "\n",
    "    # Create a column 'next_8_quarters' to look ahead for the next 8 quarters\n",
    "    df = df.withColumn(\n",
    "        'next_8_quarters_default',\n",
    "        when(col('default_status') >= 3, 1).otherwise(0)\n",
    "    )\n",
    "\n",
    "    # Use the window spec to look at the next 8 quarters' default status\n",
    "    # ???\n",
    "    df = df.withColumn(\n",
    "        'next_8_quarters_default',\n",
    "        lead('next_8_quarters_default', 32).over(window_spec)\n",
    "    )\n",
    "\n",
    "    # Create the 'y_label' column based on next 8 quarters' default status\n",
    "    df = df.withColumn('y_label', when(col('next_8_quarters_default') == 1, 1).otherwise(0))\n",
    "\n",
    "    # Drop the intermediate 'next_8_quarters_default' column\n",
    "    df = df.drop('next_8_quarters_default')\n",
    "    df = df.dropna()\n",
    "    \n",
    "    # Convert Spark DataFrame to pandas DataFrame and save to CSV\n",
    "    df.coalesce(1).write.option(\"header\", \"true\").csv(output_path)\n",
    "\n",
    "    print(f\"Data processed and saved to {output_path}\")"
   ]
  },
  {
   "cell_type": "code",
   "execution_count": null,
   "metadata": {},
   "outputs": [],
   "source": [
    "input_dirc = '../data/raw/'\n",
    "processed_dirc = '../data/processed/'\n",
    "output_dirc = '../data/cleaned/'\n",
    "\n",
    "# List of filenames from 2015Q1 to 2016Q4\n",
    "file_names = ['2015Q1.csv', '2015Q3.csv', \n",
    "              '2016Q1.csv', '2016Q3.csv']\n",
    "\n",
    "# Loop through the list of files and process each one\n",
    "for file_name in file_names:\n",
    "    # Run for each file from raw to processed\n",
    "    \n",
    "    # Process the mortgage data and save to cleaned directory\n",
    "    process_mortgage_data_eight_quarters(processed_dirc + file_name, output_dirc + file_name + '8_quarters')\n",
    "\n",
    "    print(f\"Processing completed for {file_name}\")"
   ]
  },
  {
   "cell_type": "markdown",
   "metadata": {},
   "source": [
    "# Split Training and Testing"
   ]
  },
  {
   "cell_type": "code",
   "execution_count": null,
   "metadata": {},
   "outputs": [],
   "source": [
    "file_paths = [\n",
    "            '../data/cleaned/2015Q1.csv4_quarters/part-00000-b5c1467d-ad02-4755-887f-23da75e21c2f-c000.csv',\n",
    "            '../data/cleaned/2015Q3.csv4_quarters/part-00000-882767b1-1f94-4ffd-86f3-994360725eee-c000.csv',\n",
    "            '../data/cleaned/2016Q1.csv4_quarters/part-00000-ecc34829-1ad7-4cf2-9599-c5ace7fe8c56-c000.csv',\n",
    "            '../data/cleaned/2016Q3.csv4_quarters/part-00000-c20c7ac4-0e92-4a8b-a9d2-3b0315407b2a-c000.csv'\n",
    "            ]\n",
    "\n",
    "df = read_multiple_csv_files(file_paths)\n",
    "df.dropna(inplace=True)\n",
    "df['ACT_PERIOD'] = pd.to_datetime(df['ACT_PERIOD'], errors='coerce')\n",
    "train_start_date = pd.to_datetime('2015-01-01')\n",
    "train_end_date = pd.to_datetime('2020-01-01')\n",
    "test_start_date = pd.to_datetime('2022-01-01')\n",
    "test_end_date = pd.to_datetime('2024-01-01')\n",
    "train_data = df[(df['ACT_PERIOD'] >= train_start_date) & (df['ACT_PERIOD'] < train_end_date)]\n",
    "test_data = df[(df['ACT_PERIOD'] >= test_start_date) & (df['ACT_PERIOD'] < test_end_date)]\n",
    "\n"
   ]
  },
  {
   "cell_type": "code",
   "execution_count": null,
   "metadata": {},
   "outputs": [],
   "source": [
    "# Output train/test_data to CSV\n",
    "train_data.to_csv('../data/final/four_quarters/train_data.csv', index=False)\n",
    "test_data.to_csv('../data/final/four_quarters/test_data.csv', index=False)"
   ]
  }
 ],
 "metadata": {
  "kernelspec": {
   "display_name": "MGT6785",
   "language": "python",
   "name": "python3"
  },
  "language_info": {
   "codemirror_mode": {
    "name": "ipython",
    "version": 3
   },
   "file_extension": ".py",
   "mimetype": "text/x-python",
   "name": "python",
   "nbconvert_exporter": "python",
   "pygments_lexer": "ipython3",
   "version": "3.12.7"
  }
 },
 "nbformat": 4,
 "nbformat_minor": 2
}
