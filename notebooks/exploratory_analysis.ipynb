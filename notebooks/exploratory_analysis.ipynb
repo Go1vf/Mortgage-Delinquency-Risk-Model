{
 "cells": [
  {
   "cell_type": "code",
   "execution_count": 1,
   "metadata": {
    "colab": {
     "base_uri": "https://localhost:8080/"
    },
    "id": "z-T_aceJjxNd",
    "outputId": "d8f23580-72ea-41bb-a54c-79f78cde3195"
   },
   "outputs": [
    {
     "name": "stdout",
     "output_type": "stream",
     "text": [
      "Package Imported\n"
     ]
    }
   ],
   "source": [
    "import pandas as pd\n",
    "import warnings\n",
    "import sys\n",
    "sys.path.append('../src')\n",
    "warnings.simplefilter(action='ignore', category=pd.errors.DtypeWarning)\n",
    "import matplotlib.pyplot as plt\n",
    "print(\"Package Imported\")"
   ]
  },
  {
   "cell_type": "code",
   "execution_count": null,
   "metadata": {
    "colab": {
     "base_uri": "https://localhost:8080/"
    },
    "id": "nHe0bJvMj0Qc",
    "outputId": "9be632e6-932b-41bf-cec8-c3725cf3dc93"
   },
   "outputs": [
    {
     "name": "stdout",
     "output_type": "stream",
     "text": [
      "Drive already mounted at /content/drive; to attempt to forcibly remount, call drive.mount(\"/content/drive\", force_remount=True).\n"
     ]
    }
   ],
   "source": [
    "# from google.colab import drive\n",
    "# drive.mount('/content/drive')"
   ]
  },
  {
   "cell_type": "code",
   "execution_count": 3,
   "metadata": {
    "id": "0YvzBgobxBcO"
   },
   "outputs": [],
   "source": [
    "import pandas as pd\n",
    "\n",
    "def read_multiple_csv_files(file_paths: list, chunk_size: int = 100000) -> pd.DataFrame:\n",
    "    \"\"\"\n",
    "    Reads multiple CSV files into one pandas DataFrame in chunks to avoid memory overload.\n",
    "\n",
    "    Parameters:\n",
    "    - file_paths (list): List of file paths to the CSV files.\n",
    "    - chunk_size (int): The number of rows to read at a time from each CSV file.\n",
    "\n",
    "    Returns:\n",
    "    - pd.DataFrame: A pandas DataFrame containing the data from all the CSV files, concatenated.\n",
    "    \"\"\"\n",
    "    # Initialize an empty list to hold the DataFrames\n",
    "    dfs = []\n",
    "\n",
    "    # Loop through each file path\n",
    "    for file_path in file_paths:\n",
    "        # Read the file in chunks\n",
    "        chunk_iter = pd.read_csv(file_path, chunksize=chunk_size)\n",
    "\n",
    "        # Process each chunk\n",
    "        for chunk in chunk_iter:\n",
    "            # Append the chunk to the list\n",
    "            dfs.append(chunk)\n",
    "        print(f\"{file_path} finished\")\n",
    "\n",
    "    # Concatenate all the chunks into a single DataFrame\n",
    "    combined_df = pd.concat(dfs, ignore_index=True)\n",
    "\n",
    "\n",
    "    return combined_df\n"
   ]
  },
  {
   "cell_type": "code",
   "execution_count": 4,
   "metadata": {
    "colab": {
     "base_uri": "https://localhost:8080/"
    },
    "id": "a7TKZ5oTufpZ",
    "outputId": "b01f0a62-be83-48f4-b08c-e507a3e857b1"
   },
   "outputs": [
    {
     "name": "stdout",
     "output_type": "stream",
     "text": [
      "/content/drive/MyDrive/cleaned/2015Q1.csv/part-00000-3cc23a57-3732-4fa2-a6e4-a43cece1f65a-c000.csv finished\n",
      "/content/drive/MyDrive/cleaned/2015Q3.csv/part-00000-9ecb8a62-7c5d-4705-b23f-65541eb8d458-c000.csv finished\n",
      "/content/drive/MyDrive/cleaned/2016Q1.csv/part-00000-0115a5ba-1db7-421c-866c-7f1446998bf2-c000.csv finished\n",
      "/content/drive/MyDrive/cleaned/2016Q3.csv/part-00000-08a86052-5429-46ab-8fb9-69b0411fd0ab-c000.csv finished\n"
     ]
    }
   ],
   "source": [
    "file_paths = [\n",
    "            '/content/drive/MyDrive/cleaned/2015Q1.csv/part-00000-3cc23a57-3732-4fa2-a6e4-a43cece1f65a-c000.csv',\n",
    "            '/content/drive/MyDrive/cleaned/2015Q3.csv/part-00000-9ecb8a62-7c5d-4705-b23f-65541eb8d458-c000.csv',\n",
    "            '/content/drive/MyDrive/cleaned/2016Q1.csv/part-00000-0115a5ba-1db7-421c-866c-7f1446998bf2-c000.csv',\n",
    "            '/content/drive/MyDrive/cleaned/2016Q3.csv/part-00000-08a86052-5429-46ab-8fb9-69b0411fd0ab-c000.csv'\n",
    "              ]\n",
    "\n",
    "df = read_multiple_csv_files(file_paths)"
   ]
  },
  {
   "cell_type": "code",
   "execution_count": 5,
   "metadata": {
    "id": "uUJ54QlDyXu4"
   },
   "outputs": [],
   "source": [
    "def plot_y_label_vs_date(df: pd.DataFrame, y_label_column: str, date_column: str, max_points: int = 1000):\n",
    "    \"\"\"\n",
    "    This function plots a scatter plot of the rows where y_label == 1,\n",
    "    with the x-axis representing the ACT_PERIOD (date-time) and the y-axis representing the y_label.\n",
    "\n",
    "    Parameters:\n",
    "    - df: pandas DataFrame containing the data.\n",
    "    - y_label_column: The column representing the y_label (e.g., 'y_label').\n",
    "    - date_column: The column representing the date-time (e.g., 'ACT_PERIOD').\n",
    "    - max_points: Maximum number of points to plot (default 1000).\n",
    "\n",
    "    The function will:\n",
    "    - Filter the rows where y_label == 1.\n",
    "    - Plot a scatter plot with ACT_PERIOD on the x-axis and y_label on the y-axis.\n",
    "    \"\"\"\n",
    "    # Ensure that the date column is in datetime format\n",
    "    df[date_column] = pd.to_datetime(df[date_column], errors='coerce')\n",
    "\n",
    "    # Filter the DataFrame to include only rows where y_label == 1\n",
    "    df_filtered = df[df[y_label_column] == 1]\n",
    "\n",
    "    # Sample a subset if the number of rows is too large\n",
    "    if len(df_filtered) > max_points:\n",
    "        df_filtered = df_filtered.sample(n=max_points, random_state=42)\n",
    "\n",
    "    # Plot the scatter plot with ACT_PERIOD on the x-axis and y_label on the y-axis\n",
    "    plt.figure(figsize=(10, 6))\n",
    "    plt.scatter(df_filtered[date_column], df_filtered[y_label_column], color='skyblue', marker='o', label='y_label = 1')\n",
    "\n",
    "    # Customize the plot\n",
    "    plt.xlabel('ACT_PERIOD')\n",
    "    plt.ylabel('y_label')\n",
    "    plt.title('Scatter Plot of y_label = 1 vs. ACT_PERIOD')\n",
    "    plt.xticks(rotation=45, ha='right')\n",
    "    plt.tight_layout()\n",
    "    plt.legend()\n",
    "    plt.show()\n",
    "\n",
    "# Example usage:\n",
    "# Assuming your DataFrame is `df` and contains 'y_label' and 'ACT_PERIOD' columns\n",
    "# plot_y_label_vs_date(df, 'y_label', 'ACT_PERIOD')\n"
   ]
  },
  {
   "cell_type": "code",
   "execution_count": 6,
   "metadata": {
    "id": "l1jlgpNpjxNf"
   },
   "outputs": [],
   "source": [
    "# df['ACT_PERIOD'] = pd.to_datetime(df['ACT_PERIOD'], errors='coerce')\n",
    "\n",
    "# # Find the max (most recent) and min (earliest) ACT_PERIOD\n",
    "# max_act_period = df['ACT_PERIOD'].max()\n",
    "# min_act_period = df['ACT_PERIOD'].min()\n",
    "\n",
    "# # Print the results\n",
    "# print(\"Max ACT_PERIOD:\", max_act_period)\n",
    "# print(\"Min ACT_PERIOD:\", min_act_period)"
   ]
  },
  {
   "cell_type": "code",
   "execution_count": 7,
   "metadata": {
    "colab": {
     "base_uri": "https://localhost:8080/"
    },
    "id": "PhA4ely60bNp",
    "outputId": "e16dcdfc-b705-43ab-feb9-3dc308676700"
   },
   "outputs": [
    {
     "name": "stdout",
     "output_type": "stream",
     "text": [
      "y_label\n",
      "0    121217201\n",
      "1       686095\n",
      "Name: count, dtype: int64\n"
     ]
    }
   ],
   "source": [
    "df.dropna(inplace=True)\n",
    "y_label_distribution = df['y_label'].value_counts()\n",
    "\n",
    "# Print the result\n",
    "print(y_label_distribution)"
   ]
  },
  {
   "cell_type": "code",
   "execution_count": 9,
   "metadata": {
    "id": "XZJ3Q9Xg0Taf"
   },
   "outputs": [],
   "source": [
    "df['ACT_PERIOD'] = pd.to_datetime(df['ACT_PERIOD'], errors='coerce')\n",
    "train_start_date = pd.to_datetime('2015-01-01')\n",
    "train_end_date = pd.to_datetime('2020-01-01')\n",
    "test_start_date = pd.to_datetime('2022-01-01')\n",
    "test_end_date = pd.to_datetime('2024-01-01')\n",
    "train_data = df[(df['ACT_PERIOD'] >= train_start_date) & (df['ACT_PERIOD'] < train_end_date)]\n",
    "test_data = df[(df['ACT_PERIOD'] >= test_start_date) & (df['ACT_PERIOD'] < test_end_date)]\n"
   ]
  },
  {
   "cell_type": "code",
   "execution_count": 15,
   "metadata": {
    "id": "P3Z0DZaP4x_U"
   },
   "outputs": [],
   "source": [
    "train_data.to_csv('/content/train_data.csv', index=False)\n",
    "\n",
    "# Output test_data to CSV\n",
    "test_data.to_csv('/content/test_data.csv', index=False)"
   ]
  },
  {
   "cell_type": "code",
   "execution_count": 13,
   "metadata": {
    "colab": {
     "base_uri": "https://localhost:8080/"
    },
    "id": "NjWMMyhk4ATg",
    "outputId": "5fb17085-857c-4d7a-d44d-9bd3b43a693e"
   },
   "outputs": [
    {
     "name": "stdout",
     "output_type": "stream",
     "text": [
      "y_label\n",
      "0    81563982\n",
      "1      166487\n",
      "Name: count, dtype: int64\n"
     ]
    }
   ],
   "source": [
    "y_label_distribution = train_data['y_label'].value_counts()\n",
    "print(y_label_distribution)"
   ]
  },
  {
   "cell_type": "code",
   "execution_count": 14,
   "metadata": {
    "colab": {
     "base_uri": "https://localhost:8080/"
    },
    "id": "4XDmdGu54I89",
    "outputId": "406594c2-862d-42c5-ca75-f0c34099de0e"
   },
   "outputs": [
    {
     "name": "stdout",
     "output_type": "stream",
     "text": [
      "y_label\n",
      "0    13981462\n",
      "1       92839\n",
      "Name: count, dtype: int64\n"
     ]
    }
   ],
   "source": [
    "y_label_distribution = test_data['y_label'].value_counts()\n",
    "print(y_label_distribution)"
   ]
  }
 ],
 "metadata": {
  "colab": {
   "machine_shape": "hm",
   "provenance": [],
   "toc_visible": true
  },
  "kernelspec": {
   "display_name": "MGT6785",
   "language": "python",
   "name": "python3"
  },
  "language_info": {
   "codemirror_mode": {
    "name": "ipython",
    "version": 3
   },
   "file_extension": ".py",
   "mimetype": "text/x-python",
   "name": "python",
   "nbconvert_exporter": "python",
   "pygments_lexer": "ipython3",
   "version": "3.12.7"
  }
 },
 "nbformat": 4,
 "nbformat_minor": 0
}
