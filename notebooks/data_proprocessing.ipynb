{
 "cells": [
  {
   "cell_type": "markdown",
   "metadata": {},
   "source": [
    "## Import"
   ]
  },
  {
   "cell_type": "code",
   "execution_count": null,
   "metadata": {},
   "outputs": [],
   "source": [
    "# from pyspark.sql import SparkSession\n",
    "import pandas as pd\n",
    "import warnings\n",
    "warnings.simplefilter(action='ignore', category=pd.errors.DtypeWarning)\n",
    "print(\"Package Imported\")"
   ]
  },
  {
   "cell_type": "code",
   "execution_count": 2,
   "metadata": {},
   "outputs": [],
   "source": [
    "import pandas as pd\n",
    "\n",
    "# Function to load the Loan Performance file\n",
    "def load_lppub_file(filename, col_names, col_types):\n",
    "    # Use pandas to read the file with specific column names and types\n",
    "    df = pd.read_csv(filename, sep=\"|\", names=col_names, dtype=col_types)\n",
    "    return df\n",
    "\n",
    "# Define the Loan Performance table headers and data types\n",
    "lppub_column_names = [\n",
    "    \"POOL_ID\", \"LOAN_ID\", \"ACT_PERIOD\", \"CHANNEL\", \"SELLER\", \"SERVICER\",\n",
    "    \"MASTER_SERVICER\", \"ORIG_RATE\", \"CURR_RATE\", \"ORIG_UPB\", \"ISSUANCE_UPB\",\n",
    "    \"CURRENT_UPB\", \"ORIG_TERM\", \"ORIG_DATE\", \"FIRST_PAY\", \"LOAN_AGE\",\n",
    "    \"REM_MONTHS\", \"ADJ_REM_MONTHS\", \"MATR_DT\", \"OLTV\", \"OCLTV\",\n",
    "    \"NUM_BO\", \"DTI\", \"CSCORE_B\", \"CSCORE_C\", \"FIRST_FLAG\", \"PURPOSE\",\n",
    "    \"PROP\", \"NO_UNITS\", \"OCC_STAT\", \"STATE\", \"MSA\", \"ZIP\", \"MI_PCT\",\n",
    "    \"PRODUCT\", \"PPMT_FLG\", \"IO\", \"FIRST_PAY_IO\", \"MNTHS_TO_AMTZ_IO\",\n",
    "    \"DLQ_STATUS\", \"PMT_HISTORY\", \"MOD_FLAG\", \"MI_CANCEL_FLAG\", \"Zero_Bal_Code\",\n",
    "    \"ZB_DTE\", \"LAST_UPB\", \"RPRCH_DTE\", \"CURR_SCHD_PRNCPL\", \"TOT_SCHD_PRNCPL\",\n",
    "    \"UNSCHD_PRNCPL_CURR\", \"LAST_PAID_INSTALLMENT_DATE\", \"FORECLOSURE_DATE\",\n",
    "    \"DISPOSITION_DATE\", \"FORECLOSURE_COSTS\", \"PROPERTY_PRESERVATION_AND_REPAIR_COSTS\",\n",
    "    \"ASSET_RECOVERY_COSTS\", \"MISCELLANEOUS_HOLDING_EXPENSES_AND_CREDITS\",\n",
    "    \"ASSOCIATED_TAXES_FOR_HOLDING_PROPERTY\", \"NET_SALES_PROCEEDS\",\n",
    "    \"CREDIT_ENHANCEMENT_PROCEEDS\", \"REPURCHASES_MAKE_WHOLE_PROCEEDS\",\n",
    "    \"OTHER_FORECLOSURE_PROCEEDS\", \"NON_INTEREST_BEARING_UPB\", \"PRINCIPAL_FORGIVENESS_AMOUNT\",\n",
    "    \"ORIGINAL_LIST_START_DATE\", \"ORIGINAL_LIST_PRICE\", \"CURRENT_LIST_START_DATE\",\n",
    "    \"CURRENT_LIST_PRICE\", \"ISSUE_SCOREB\", \"ISSUE_SCOREC\", \"CURR_SCOREB\",\n",
    "    \"CURR_SCOREC\", \"MI_TYPE\", \"SERV_IND\", \"CURRENT_PERIOD_MODIFICATION_LOSS_AMOUNT\",\n",
    "    \"CUMULATIVE_MODIFICATION_LOSS_AMOUNT\", \"CURRENT_PERIOD_CREDIT_EVENT_NET_GAIN_OR_LOSS\",\n",
    "    \"CUMULATIVE_CREDIT_EVENT_NET_GAIN_OR_LOSS\", \"HOMEREADY_PROGRAM_INDICATOR\",\n",
    "    \"FORECLOSURE_PRINCIPAL_WRITE_OFF_AMOUNT\", \"RELOCATION_MORTGAGE_INDICATOR\",\n",
    "    \"ZERO_BALANCE_CODE_CHANGE_DATE\", \"LOAN_HOLDBACK_INDICATOR\", \"LOAN_HOLDBACK_EFFECTIVE_DATE\",\n",
    "    \"DELINQUENT_ACCRUED_INTEREST\", \"PROPERTY_INSPECTION_WAIVER_INDICATOR\",\n",
    "    \"HIGH_BALANCE_LOAN_INDICATOR\", \"ARM_5_YR_INDICATOR\", \"ARM_PRODUCT_TYPE\",\n",
    "    \"MONTHS_UNTIL_FIRST_PAYMENT_RESET\", \"MONTHS_BETWEEN_SUBSEQUENT_PAYMENT_RESET\",\n",
    "    \"INTEREST_RATE_CHANGE_DATE\", \"PAYMENT_CHANGE_DATE\", \"ARM_INDEX\",\n",
    "    \"ARM_CAP_STRUCTURE\", \"INITIAL_INTEREST_RATE_CAP\", \"PERIODIC_INTEREST_RATE_CAP\",\n",
    "    \"LIFETIME_INTEREST_RATE_CAP\", \"MARGIN\", \"BALLOON_INDICATOR\",\n",
    "    \"PLAN_NUMBER\", \"FORBEARANCE_INDICATOR\", \"HIGH_LOAN_TO_VALUE_HLTV_REFINANCE_OPTION_INDICATOR\",\n",
    "    \"DEAL_NAME\", \"RE_PROCS_FLAG\", \"ADR_TYPE\", \"ADR_COUNT\", \"ADR_UPB\", \"PAYMENT_DEFERRAL_MOD_EVENT_FLAG\", \"INTEREST_BEARING_UPB\"\n",
    "]\n",
    "\n",
    "# Define column data types as a dictionary\n",
    "lppub_column_classes = {\n",
    "    \"POOL_ID\": \"string\", \"LOAN_ID\": \"string\", \"ACT_PERIOD\": \"string\", \"CHANNEL\": \"string\", \"SELLER\": \"string\", \n",
    "    \"SERVICER\": \"string\", \"MASTER_SERVICER\": \"string\", \"ORIG_RATE\": \"float64\", \"CURR_RATE\": \"float64\",\n",
    "    \"ORIG_UPB\": \"float64\", \"ISSUANCE_UPB\": \"float64\", \"CURRENT_UPB\": \"float64\", \"ORIG_TERM\": \"float64\", \n",
    "    \"ORIG_DATE\": \"string\", \"FIRST_PAY\": \"string\", \"LOAN_AGE\": \"float64\", \"REM_MONTHS\": \"float64\", \n",
    "    \"ADJ_REM_MONTHS\": \"float64\", \"MATR_DT\": \"string\", \"OLTV\": \"float64\", \"OCLTV\": \"float64\", \n",
    "    \"NUM_BO\": \"string\", \"DTI\": \"float64\", \"CSCORE_B\": \"float64\", \"CSCORE_C\": \"float64\", \"FIRST_FLAG\": \"string\", \n",
    "    \"PURPOSE\": \"string\", \"PROP\": \"string\", \"NO_UNITS\": \"float64\", \"OCC_STAT\": \"string\", \"STATE\": \"string\", \n",
    "    \"MSA\": \"string\", \"ZIP\": \"string\", \"MI_PCT\": \"float64\", \"PRODUCT\": \"string\", \"PPMT_FLG\": \"string\", \n",
    "    \"IO\": \"string\", \"FIRST_PAY_IO\": \"string\", \"MNTHS_TO_AMTZ_IO\": \"float64\", \"DLQ_STATUS\": \"string\", \n",
    "    \"PMT_HISTORY\": \"string\", \"MOD_FLAG\": \"string\", \"MI_CANCEL_FLAG\": \"string\", \"Zero_Bal_Code\": \"string\", \n",
    "    \"ZB_DTE\": \"string\", \"LAST_UPB\": \"float64\", \"RPRCH_DTE\": \"string\", \"CURR_SCHD_PRNCPL\": \"float64\", \n",
    "    \"TOT_SCHD_PRNCPL\": \"float64\", \"UNSCHD_PRNCPL_CURR\": \"float64\", \"LAST_PAID_INSTALLMENT_DATE\": \"string\", \n",
    "    \"FORECLOSURE_DATE\": \"string\", \"DISPOSITION_DATE\": \"string\", \"FORECLOSURE_COSTS\": \"float64\", \n",
    "    \"PROPERTY_PRESERVATION_AND_REPAIR_COSTS\": \"float64\", \"ASSET_RECOVERY_COSTS\": \"float64\", \n",
    "    \"MISCELLANEOUS_HOLDING_EXPENSES_AND_CREDITS\": \"float64\", \"ASSOCIATED_TAXES_FOR_HOLDING_PROPERTY\": \"float64\", \n",
    "    \"NET_SALES_PROCEEDS\": \"float64\", \"CREDIT_ENHANCEMENT_PROCEEDS\": \"float64\", \n",
    "    \"REPURCHASES_MAKE_WHOLE_PROCEEDS\": \"float64\", \"OTHER_FORECLOSURE_PROCEEDS\": \"float64\", \n",
    "    \"NON_INTEREST_BEARING_UPB\": \"float64\", \"PRINCIPAL_FORGIVENESS_AMOUNT\": \"float64\", \n",
    "    \"ORIGINAL_LIST_START_DATE\": \"string\", \"ORIGINAL_LIST_PRICE\": \"float64\", \"CURRENT_LIST_START_DATE\": \"string\", \n",
    "    \"CURRENT_LIST_PRICE\": \"float64\", \"ISSUE_SCOREB\": \"float64\", \"ISSUE_SCOREC\": \"float64\", \"CURR_SCOREB\": \"float64\", \n",
    "    \"CURR_SCOREC\": \"float64\", \"MI_TYPE\": \"string\", \"SERV_IND\": \"string\", \n",
    "    \"CURRENT_PERIOD_MODIFICATION_LOSS_AMOUNT\": \"float64\", \"CUMULATIVE_MODIFICATION_LOSS_AMOUNT\": \"float64\", \n",
    "    \"CURRENT_PERIOD_CREDIT_EVENT_NET_GAIN_OR_LOSS\": \"float64\", \"CUMULATIVE_CREDIT_EVENT_NET_GAIN_OR_LOSS\": \"float64\", \n",
    "    \"HOMEREADY_PROGRAM_INDICATOR\": \"string\", \"FORECLOSURE_PRINCIPAL_WRITE_OFF_AMOUNT\": \"float64\", \n",
    "    \"RELOCATION_MORTGAGE_INDICATOR\": \"string\", \"ZERO_BALANCE_CODE_CHANGE_DATE\": \"string\", \n",
    "    \"LOAN_HOLDBACK_INDICATOR\": \"string\", \"LOAN_HOLDBACK_EFFECTIVE_DATE\": \"string\", \"DELINQUENT_ACCRUED_INTEREST\": \"float64\", \n",
    "    \"PROPERTY_INSPECTION_WAIVER_INDICATOR\": \"string\", \"HIGH_BALANCE_LOAN_INDICATOR\": \"string\", \n",
    "    \"ARM_5_YR_INDICATOR\": \"string\", \"ARM_PRODUCT_TYPE\": \"string\", \"MONTHS_UNTIL_FIRST_PAYMENT_RESET\": \"float64\", \n",
    "    \"MONTHS_BETWEEN_SUBSEQUENT_PAYMENT_RESET\": \"float64\", \"INTEREST_RATE_CHANGE_DATE\": \"string\", \n",
    "    \"PAYMENT_CHANGE_DATE\": \"string\", \"ARM_INDEX\": \"string\", \"ARM_CAP_STRUCTURE\": \"string\", \n",
    "    \"INITIAL_INTEREST_RATE_CAP\": \"float64\", \"PERIODIC_INTEREST_RATE_CAP\": \"float64\", \n",
    "    \"LIFETIME_INTEREST_RATE_CAP\": \"float64\", \"MARGIN\": \"float64\", \"BALLOON_INDICATOR\": \"string\", \n",
    "    \"PLAN_NUMBER\": \"string\", \"FORBEARANCE_INDICATOR\": \"string\", \"HIGH_LOAN_TO_VALUE_HLTV_REFINANCE_OPTION_INDICATOR\": \"string\", \n",
    "    \"DEAL_NAME\": \"string\", \"RE_PROCS_FLAG\": \"string\", \"ADR_TYPE\": \"string\", \"ADR_COUNT\": \"float64\", \n",
    "    \"ADR_UPB\": \"float64\", \"PAYMENT_DEFERRAL_MOD_EVENT_FLAG\": \"string\", \"INTEREST_BEARING_UPB\": \"float64\"\n",
    "}"
   ]
  },
  {
   "cell_type": "code",
   "execution_count": 6,
   "metadata": {},
   "outputs": [],
   "source": [
    "file_path = '../data/raw/2016Q1.csv'\n",
    "result = []\n",
    "chunk_size = 100000\n",
    "for chunk in pd.read_csv(file_path, sep='|', names=lppub_column_names, chunksize=chunk_size, dtype=lppub_column_classes):\n",
    "    result.append(chunk)\n",
    "final_df = pd.concat(result, ignore_index=True)"
   ]
  },
  {
   "cell_type": "code",
   "execution_count": null,
   "metadata": {},
   "outputs": [],
   "source": [
    "final_df.head(20)"
   ]
  },
  {
   "cell_type": "code",
   "execution_count": null,
   "metadata": {},
   "outputs": [],
   "source": [
    "threshold = 0.8 * len(final_df)\n",
    "final_df = final_df.dropna(axis=1, thresh=threshold)\n",
    "final_df.head(10)"
   ]
  },
  {
   "cell_type": "code",
   "execution_count": null,
   "metadata": {},
   "outputs": [],
   "source": [
    "print(final_df.columns)"
   ]
  },
  {
   "cell_type": "code",
   "execution_count": null,
   "metadata": {},
   "outputs": [],
   "source": [
    "unique_dlq_status = final_df['DLQ_STATUS'].unique()\n",
    "print(unique_dlq_status)"
   ]
  },
  {
   "cell_type": "code",
   "execution_count": 14,
   "metadata": {},
   "outputs": [],
   "source": [
    "final_df['date_time'] = pd.to_datetime(final_df['ACT_PERIOD'], format='%m%Y')\n",
    "final_df['date_time'] = final_df['date_time'].dt.strftime('%Y-%m')\n",
    "max_date_row = final_df.loc[final_df['date_time'].idxmax()]\n"
   ]
  },
  {
   "cell_type": "code",
   "execution_count": null,
   "metadata": {},
   "outputs": [],
   "source": [
    "print(max_date_row[\"DLQ_STATUS\"])"
   ]
  },
  {
   "cell_type": "code",
   "execution_count": null,
   "metadata": {},
   "outputs": [],
   "source": [
    "custome_headers =  ['Loan ID', \n",
    "                    'Channel', \n",
    "                    'Servicer Name', \n",
    "                    'Original Interest Rate', \n",
    "                    'Current Interest Rate', \n",
    "                    \"Original UPB\", \n",
    "                    \"UPB at Issuance\",\n",
    "                    \"Current Actual UPB\",\n",
    "                    \"Loan Age\",\n",
    "                    \"Remaing Months To Maturity\",\n",
    "                    \"Orginal Loan to Value Ratio\",\n",
    "                    \"Original Combined Loan to Value Ratio (CLTV)\",\n",
    "                    \"Number of Borrowers\",\n",
    "                    \"Debt-To-Income (DTI)\",\n",
    "                    \"Borrower Credit Score at Origination\",\n",
    "                    \"Co-Borrower Credit Score at Origination\",\n",
    "                    \"First Time Home Buyer\",\n",
    "                    \"Loan Purpose\",\n",
    "                    \"Property Type\",\n",
    "                    \"Occupancy Status\",\n",
    "                    \"Mortgage Insurance Percentage\",\n",
    "                    \"Amortization Type\", \n",
    "                    \"Current Loan Delinquency Status\",\n",
    "                    \"Repurchase Date\",\n",
    "                    \"Property Preservation and Repair Cost\",\n",
    "                    \"Cumulative Modification Loss Amount\",\n",
    "                    \"High Balance Loan Indicator\",\n",
    "                    \"Lifetime Interest Rate Cap Up Percent\",\n",
    "                    \"High Loan to Value (HLTV) Refinance Option Indicator\",\n",
    "                    ]\n",
    "print(len(custome_headers))\n",
    "selected_indices = [1, 3, 5, 7, 8, 9, 10, 11, 15, 16, 17, 19, 20, 21, 22, 23, 24, 25, 26, 27, 29, 33, 34, 39, 40, 47, 54, 75, 86, 97, 102]\n"
   ]
  },
  {
   "cell_type": "code",
   "execution_count": null,
   "metadata": {},
   "outputs": [],
   "source": [
    "print(\"update\")"
   ]
  },
  {
   "cell_type": "code",
   "execution_count": null,
   "metadata": {},
   "outputs": [],
   "source": []
  }
 ],
 "metadata": {
  "kernelspec": {
   "display_name": "MGT6785",
   "language": "python",
   "name": "python3"
  },
  "language_info": {
   "codemirror_mode": {
    "name": "ipython",
    "version": 3
   },
   "file_extension": ".py",
   "mimetype": "text/x-python",
   "name": "python",
   "nbconvert_exporter": "python",
   "pygments_lexer": "ipython3",
   "version": "3.12.7"
  }
 },
 "nbformat": 4,
 "nbformat_minor": 2
}
