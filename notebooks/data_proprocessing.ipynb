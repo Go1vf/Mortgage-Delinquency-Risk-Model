{
 "cells": [
  {
   "cell_type": "markdown",
   "metadata": {},
   "source": [
    "## Import"
   ]
  },
  {
   "cell_type": "code",
   "execution_count": null,
   "metadata": {},
   "outputs": [],
   "source": [
    "# from pyspark.sql import SparkSession\n",
    "import pandas as pd\n",
    "import warnings\n",
    "warnings.simplefilter(action='ignore', category=pd.errors.DtypeWarning)\n",
    "print(\"Package Imported\")"
   ]
  },
  {
   "cell_type": "code",
   "execution_count": null,
   "metadata": {},
   "outputs": [],
   "source": [
    "file_path = '../data/raw/2016Q1.csv'\n",
    "result = []\n",
    "chunk_size = 100000\n",
    "selected_indices = [1, 3, 5, 7, 8, 9, 10, 11, 15, 16, 17, 19, 20, 21, 22, 23, 24, 25, 26, 27, 29, 33, 34, 39, 40, 47, 54, 75, 86, 97, 102]\n",
    "\n",
    "for chunk in pd.read_csv(file_path, sep='|', header=None, chunksize=chunk_size):\n",
    "    processed_chunk = chunk.iloc[:, selected_indices]\n",
    "    result.append(processed_chunk)\n",
    "final_df = pd.concat(result, ignore_index=True)"
   ]
  },
  {
   "cell_type": "code",
   "execution_count": null,
   "metadata": {},
   "outputs": [],
   "source": [
    "final_df.head(20)"
   ]
  },
  {
   "cell_type": "code",
   "execution_count": null,
   "metadata": {},
   "outputs": [],
   "source": [
    "custome_headers =  ['Loan ID', \n",
    "                    'Channel', \n",
    "                    'Servicer Name', \n",
    "                    'Original Interest Rate', \n",
    "                    'Current Interest Rate', \n",
    "                    \"Original UPB\", \n",
    "                    \"UPB at Issuance\",\n",
    "                    \"Current Actual UPB\",\n",
    "                    \"Loan Age\",\n",
    "                    \"Remaing Months To Maturity\",\n",
    "                    \"Orginal Loan to Value Ratio\",\n",
    "                    \"Original Combined Loan to Value Ratio (CLTV)\",\n",
    "                    \"Number of Borrowers\",\n",
    "                    \"Debt-To-Income (DTI)\",\n",
    "                    \"Borrower Credit Score at Origination\",\n",
    "                    ]\n"
   ]
  },
  {
   "cell_type": "code",
   "execution_count": null,
   "metadata": {},
   "outputs": [],
   "source": [
    "print(\"haha\")"
   ]
  },
  {
   "cell_type": "code",
   "execution_count": null,
   "metadata": {},
   "outputs": [],
   "source": []
  }
 ],
 "metadata": {
  "kernelspec": {
   "display_name": "MGT6785",
   "language": "python",
   "name": "python3"
  },
  "language_info": {
   "codemirror_mode": {
    "name": "ipython",
    "version": 3
   },
   "file_extension": ".py",
   "mimetype": "text/x-python",
   "name": "python",
   "nbconvert_exporter": "python",
   "pygments_lexer": "ipython3",
   "version": "3.12.7"
  }
 },
 "nbformat": 4,
 "nbformat_minor": 2
}
